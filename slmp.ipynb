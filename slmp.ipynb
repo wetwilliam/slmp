{
 "cells": [
  {
   "cell_type": "markdown",
   "metadata": {},
   "source": [
    "##  三菱 SLMP 通訊協定"
   ]
  },
  {
   "cell_type": "code",
   "execution_count": null,
   "metadata": {
    "dotnet_interactive": {
     "language": "csharp"
    }
   },
   "outputs": [],
   "source": [
    "using System;\r\n",
    "using System.Collections.Generic;\r\n",
    "using System.Net.Sockets;\r\n",
    "using System.IO;"
   ]
  },
  {
   "cell_type": "code",
   "execution_count": null,
   "metadata": {
    "dotnet_interactive": {
     "language": "csharp"
    }
   },
   "outputs": [],
   "source": [
    "public class PLC\r\n",
    "{\r\n",
    "    private TcpClient Client = new TcpClient();\r\n",
    "    private NetworkStream Stream {get;set;}\r\n",
    "    private string subheader = \"5000\";\r\n",
    "    private string network_number = \"00\";\r\n",
    "    private string destination_station = \"FF\";\r\n",
    "    private string destination_IO_number = \"03FF\";\r\n",
    "    private string request_multi_drop = \"00\";\r\n",
    "    private string reserved_data = \"0000\";\r\n",
    "    private string command =\"0401\";\r\n",
    "    private string subcommand = \"0000\";\r\n",
    "    private string device_code = \"D*\";\r\n",
    "    private string head_device = \"000000\";\r\n",
    "    private string number_device =\"0000\";\r\n",
    "    private string request_data_length = \"0000\";\r\n",
    "    private string value_device = \"\";\r\n",
    "\r\n",
    "    public void TcpConnect(string HostName, int PortNumber)\r\n",
    "    {\r\n",
    "        TcpClient c = Client;\r\n",
    "        if (!c.Connected) {\r\n",
    "            // Keep Alive機能の実装\r\n",
    "            var ka = new List<byte>(sizeof(uint) * 3);\r\n",
    "            ka.AddRange(BitConverter.GetBytes(1u));\r\n",
    "            ka.AddRange(BitConverter.GetBytes(45000u));\r\n",
    "            ka.AddRange(BitConverter.GetBytes(5000u));\r\n",
    "            c.Client.IOControl(IOControlCode.KeepAliveValues, ka.ToArray(), null);\r\n",
    "            try {\r\n",
    "                c.Connect(HostName, PortNumber);\r\n",
    "                Stream = c.GetStream();\r\n",
    "            } catch (SocketException e1) {\r\n",
    "                throw new Exception(\"PLC連線（\" + HostName + \":\" + PortNumber + \"）失敗！\", e1);\r\n",
    "            }\r\n",
    "        }\r\n",
    "    }\r\n",
    "    public void TcpDisconnect()\r\n",
    "    {\r\n",
    "        TcpClient c = Client;\r\n",
    "                if (c.Connected) {\r\n",
    "                    c.Close();\r\n",
    "                }\r\n",
    "    }\r\n",
    "    public string CreateMessage()\r\n",
    "    {\r\n",
    "        var str2 = reserved_data + command + subcommand + device_code + head_device + number_device + value_device;\r\n",
    "        request_data_length = String.Format(\"{0:X4}\", str2.Count());\r\n",
    "        var str1 = subheader + network_number + destination_station + destination_IO_number + request_multi_drop + request_data_length + str2;\r\n",
    "        return str1;\r\n",
    "    }\r\n",
    "    byte[] Execute(byte[] iCommand)\r\n",
    "    {\r\n",
    "        NetworkStream ns = Stream;\r\n",
    "        ns.Write(iCommand, 0, iCommand.Length);\r\n",
    "        ns.Flush();\r\n",
    "\r\n",
    "        using (var ms = new MemoryStream())\r\n",
    "        {\r\n",
    "            var buff = new byte[256];\r\n",
    "            do\r\n",
    "            {\r\n",
    "                int sz = ns.Read(buff, 0, buff.Length);\r\n",
    "                if (sz == 0)\r\n",
    "                {\r\n",
    "                    throw new Exception(\"斷線了\");\r\n",
    "                }\r\n",
    "                ms.Write(buff, 0, sz);\r\n",
    "            } while (ns.DataAvailable);\r\n",
    "            return ms.ToArray();\r\n",
    "        }\r\n",
    "    }\r\n",
    "    public string Execute(string command)\r\n",
    "    {\r\n",
    "        var iCommand = Encoding.ASCII.GetBytes(command);\r\n",
    "        var res = Execute(iCommand);\r\n",
    "        return Encoding.ASCII.GetString(res);\r\n",
    "    }\r\n",
    "    public string SendMessage(string msg)\r\n",
    "    {\r\n",
    "        var res = \"\";\r\n",
    "        while (res == \"\")\r\n",
    "        {\r\n",
    "            try\r\n",
    "            {\r\n",
    "                res = Execute(msg);\r\n",
    "            }\r\n",
    "            catch(Exception e)\r\n",
    "            {\r\n",
    "                continue;\r\n",
    "            }\r\n",
    "        }\r\n",
    "\r\n",
    "        if (res.Count()<4)\r\n",
    "            return res;\r\n",
    "        else if(res.Substring(0,4) == \"D000\")\r\n",
    "        {\r\n",
    "            if(res.Count()<18)\r\n",
    "                return res;\r\n",
    "            else if(res.Substring(18,4) == \"0000\")\r\n",
    "            {\r\n",
    "                return res.Substring(22);\r\n",
    "            }\r\n",
    "            else\r\n",
    "            {\r\n",
    "                return res.Substring(18,4);\r\n",
    "            }\r\n",
    "        }\r\n",
    "        else\r\n",
    "        {\r\n",
    "            return \"Error\";\r\n",
    "        }\r\n",
    "    }\r\n",
    "\r\n",
    "    public string ReadM(int start_digit,int device_num = 1)\r\n",
    "    {\r\n",
    "        command = \"0401\";\r\n",
    "        device_code = \"M*\";\r\n",
    "        head_device = String.Format(\"{0:d6}\",start_digit);\r\n",
    "        number_device = String.Format(\"{0:d4}\",device_num);\r\n",
    "        value_device = \"\";\r\n",
    "        var msg =CreateMessage();\r\n",
    "        var res =SendMessage(msg);\r\n",
    "        Console.WriteLine($\"M{start_digit}={Int32.Parse(res, System.Globalization.NumberStyles.HexNumber)}\");\r\n",
    "        return res;\r\n",
    "    }\r\n",
    "    public string ReadD(int start_digit,int device_num = 1)\r\n",
    "    {\r\n",
    "        command = \"0401\";\r\n",
    "        device_code = \"D*\";\r\n",
    "        head_device = String.Format(\"{0:d6}\",start_digit);\r\n",
    "        number_device = String.Format(\"{0:d4}\",device_num);\r\n",
    "        value_device = \"\";\r\n",
    "        var msg =CreateMessage();\r\n",
    "        var res =SendMessage(msg);\r\n",
    "        Console.WriteLine($\"D{start_digit}={Int32.Parse(res, System.Globalization.NumberStyles.HexNumber)}\");\r\n",
    "        return res;\r\n",
    "    }\r\n",
    "    public string WriteD(int start_digit,int value,int device_num = 1)\r\n",
    "    {\r\n",
    "        command = \"1401\";\r\n",
    "        device_code = \"D*\";\r\n",
    "        head_device = String.Format(\"{0:d6}\",start_digit);\r\n",
    "        number_device = String.Format(\"{0:d4}\",device_num);\r\n",
    "        value_device = string.Format(\"{0:x4}\",value);\r\n",
    "        var msg =CreateMessage();\r\n",
    "        var res =SendMessage(msg);\r\n",
    "        Console.WriteLine($\"D{start_digit}={value}\");\r\n",
    "        return res;\r\n",
    "    }\r\n",
    "    public string WriteM(int start_digit,int value,int device_num = 1)\r\n",
    "    {\r\n",
    "        command = \"1401\";\r\n",
    "        device_code = \"M*\";\r\n",
    "        head_device = String.Format(\"{0:d6}\",start_digit);\r\n",
    "        number_device = String.Format(\"{0:d4}\",device_num);\r\n",
    "        value_device = string.Format(\"{0:x4}\",value);\r\n",
    "        var msg =CreateMessage();\r\n",
    "        var res =SendMessage(msg);\r\n",
    "        Console.WriteLine($\"M{start_digit}={value}\");\r\n",
    "        return res;\r\n",
    "    }\r\n",
    "} \r\n"
   ]
  },
  {
   "cell_type": "markdown",
   "metadata": {},
   "source": [
    "## 測試 讀取/寫入 M、D 之結果"
   ]
  },
  {
   "cell_type": "code",
   "execution_count": null,
   "metadata": {
    "dotnet_interactive": {
     "language": "csharp"
    }
   },
   "outputs": [
    {
     "data": {
      "text/plain": "D0=1024\r\n"
     },
     "output_type": "unknown"
    },
    {
     "data": {
      "text/plain": "M1=0\r\n"
     },
     "output_type": "unknown"
    },
    {
     "data": {
      "text/plain": "D0=1024\r\n"
     },
     "output_type": "unknown"
    },
    {
     "data": {
      "text/plain": "M0=0\r\n"
     },
     "output_type": "unknown"
    },
    {
     "data": {
      "text/plain": "Finish\r\n"
     },
     "output_type": "unknown"
    }
   ],
   "source": [
    "var plc = new PLC();\r\n",
    "plc.TcpConnect(\"192.168.3.39\",3000);\r\n",
    "plc.ReadD(0);\r\n",
    "plc.ReadM(1);\r\n",
    "plc.WriteD(0,1024);\r\n",
    "plc.WriteM(0,0);\r\n",
    "plc.TcpDisconnect();\r\n",
    "Console.WriteLine(\"Finish\");"
   ]
  },
  {
   "cell_type": "code",
   "execution_count": null,
   "metadata": {
    "dotnet_interactive": {
     "language": "csharp"
    }
   },
   "outputs": [],
   "source": []
  }
 ],
 "metadata": {
  "kernelspec": {
   "display_name": ".NET (C#)",
   "language": "C#",
   "name": ".net-csharp"
  },
  "language_info": {
   "file_extension": ".cs",
   "mimetype": "text/x-csharp",
   "name": "C#",
   "pygments_lexer": "csharp",
   "version": "9.0"
  }
 },
 "nbformat": 4,
 "nbformat_minor": 5
}